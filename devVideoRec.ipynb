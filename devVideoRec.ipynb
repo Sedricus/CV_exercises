{
 "cells": [
  {
   "cell_type": "code",
   "execution_count": 6,
   "metadata": {},
   "outputs": [],
   "source": [
    "import face_recognition\n",
    "import cv2"
   ]
  },
  {
   "cell_type": "code",
   "execution_count": null,
   "metadata": {},
   "outputs": [],
   "source": []
  },
  {
   "cell_type": "code",
   "execution_count": 7,
   "metadata": {},
   "outputs": [],
   "source": [
    "image_1 = face_recognition.load_image_file(\"/home/serg/Документи/PythonScripts/ComputerVision/Image2Rec_Son.jpg\")\n",
    "image_2 = face_recognition.load_image_file(\"/home/serg/Документи/PythonScripts/ComputerVision/Image2Rec_Mom.jpg\")\n",
    "face_encoding_1 = face_recognition.face_encodings(image_1)[0]\n",
    "face_encoding_2 = face_recognition.face_encodings(image_2)[0]\n",
    "known_faces = [\n",
    "face_encoding_1,\n",
    "face_encoding_2,\n",
    "]"
   ]
  },
  {
   "cell_type": "code",
   "execution_count": 8,
   "metadata": {},
   "outputs": [],
   "source": [
    "video_capture = cv2.VideoCapture(\"/dev/video0\")"
   ]
  },
  {
   "cell_type": "code",
   "execution_count": 9,
   "metadata": {},
   "outputs": [],
   "source": [
    "face_locations = []\n",
    "face_encodings = []\n",
    "face_names = []\n",
    "frame_number = 0\n",
    "\n",
    "while True:\n",
    "    ret, frame = video_capture.read()\n",
    "    frame_number += 1\n",
    "    \n",
    "    # Quit when the input video file ends\n",
    "    if not ret:\n",
    "       break\n",
    "    \n",
    "    rgb_frame = frame[:, :, ::-1]\n",
    "    \n",
    "    # Find all the faces and face encodings in the current frame of video\n",
    "    face_locations = face_recognition.face_locations(rgb_frame, model=\"cnn\")\n",
    "    face_encodings = face_recognition.face_encodings(rgb_frame, face_locations)\n",
    "\n",
    "    face_names = []\n",
    "    \n",
    "    for face_encoding in face_encodings:\n",
    "       # See if the face is a match for the known face(s)\n",
    "       match = face_recognition.compare_faces(known_faces, face_encoding, tolerance=0.50)\n",
    "\n",
    "       name = None\n",
    "       if match[0]:\n",
    "           name = \"Partitor\"\n",
    "       elif match[1]:\n",
    "           name = \"Best Mom of the World\"\n",
    "\n",
    "       face_names.append(name)\n",
    "\n",
    "    for (top, right, bottom, left), name in zip(face_locations, face_names):\n",
    "        if not name:\n",
    "            continue\n",
    "        \n",
    "        cv2.rectangle(frame, (left-6, top-6), (right+6, bottom+35), (0, 0, 255), 2)#, cv2.FILLED)\n",
    "        font = cv2.FONT_HERSHEY_DUPLEX\n",
    "        cv2.putText(frame, name, (left + 6, bottom-6), font, 0.5, (255, 255, 255), 1)\n",
    "\n",
    "        # Write the resulting image to the output video file\n",
    "        # print(\"Writing frame {} / {}\".format(frame_number, length))\n",
    "        cv2.imshow('CV2', frame)\n",
    "    \n",
    "    if cv2.waitKey(1) & 0xFF == ord('q'):\n",
    "       break"
   ]
  },
  {
   "cell_type": "code",
   "execution_count": 10,
   "metadata": {},
   "outputs": [],
   "source": [
    "video_capture.release()\n",
    "cv2.destroyAllWindows()"
   ]
  },
  {
   "cell_type": "code",
   "execution_count": null,
   "metadata": {},
   "outputs": [],
   "source": []
  },
  {
   "cell_type": "code",
   "execution_count": null,
   "metadata": {},
   "outputs": [],
   "source": []
  }
 ],
 "metadata": {
  "kernelspec": {
   "display_name": "Python 3",
   "language": "python",
   "name": "python3"
  },
  "language_info": {
   "codemirror_mode": {
    "name": "ipython",
    "version": 3
   },
   "file_extension": ".py",
   "mimetype": "text/x-python",
   "name": "python",
   "nbconvert_exporter": "python",
   "pygments_lexer": "ipython3",
   "version": "3.5.6"
  }
 },
 "nbformat": 4,
 "nbformat_minor": 4
}
